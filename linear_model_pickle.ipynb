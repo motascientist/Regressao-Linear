{
 "cells": [
  {
   "cell_type": "markdown",
   "id": "ed621a4c",
   "metadata": {},
   "source": [
    "## Este Notebook tem como objetico entender melhor como podemos importar nossos modelos de Machine Learning pelo método Pickle"
   ]
  },
  {
   "cell_type": "markdown",
   "id": "4ed0822d",
   "metadata": {},
   "source": [
    "##### Importando o modelo e usando-o"
   ]
  },
  {
   "cell_type": "code",
   "execution_count": 1,
   "id": "f1d16600",
   "metadata": {},
   "outputs": [
    {
     "name": "stdout",
     "output_type": "stream",
     "text": [
      "A quantidade de litros prevista é 26094.9 litros\n"
     ]
    }
   ],
   "source": [
    "import pickle\n",
    "\n",
    "# rb é o método\n",
    "modelo = open('modelo_consumo_cerveja','rb')\n",
    "lm_new = pickle.load(modelo)\n",
    "modelo.close()\n",
    "\n",
    "temp_max = 30.5\n",
    "chuva = 12.2\n",
    "fds = 0\n",
    "entrada = [[temp_max,chuva,fds]]\n",
    "\n",
    "print(f'A quantidade de litros prevista é {lm_new.predict(entrada)[0].round(2)} litros')"
   ]
  },
  {
   "cell_type": "markdown",
   "id": "af28d3e6",
   "metadata": {},
   "source": [
    "## Para criar um simulador interativo"
   ]
  },
  {
   "cell_type": "code",
   "execution_count": 20,
   "id": "c267503e",
   "metadata": {},
   "outputs": [],
   "source": [
    "from ipywidgets import widgets, HBox, VBox\n",
    "from IPython.display import display\n",
    "\n",
    "# Criando os controles do formulário\n",
    "\n",
    "Temp_max = widgets.Text(description = 'Temp Max')\n",
    "Precipitacao = widgets.Text(description = 'Precipitção')\n",
    "Final_de_Semana = widgets.Text(description = 'FDS')\n",
    "\n",
    "botao = widgets.Button(description = 'Simular')\n",
    "\n",
    "# Posicionando os controles\n",
    "\n",
    "# Compos da Esquerda\n",
    "left = VBox([Temp_max,Precipitacao])\n",
    "# Campos da Direita\n",
    "rights = VBox([Final_de_Semana])\n",
    "inputs = HBox([left,rights])\n",
    "\n",
    "# Função de Simulação\n",
    "\n",
    "def simulador(sender):\n",
    "    entrada = [[\n",
    "                    float(Temp_max.value if Temp_max.value else 0),\n",
    "                    float(Precipitacao.value if Precipitacao.value else 0),\n",
    "                    float(Final_de_Semana.value if Final_de_Semana.value else 0)\n",
    "              ]]\n",
    "    \n",
    "    print(f'{lm_new.predict(entrada)[0].round(2)}')\n",
    "    \n",
    "botao.on_click(simulador)"
   ]
  },
  {
   "cell_type": "code",
   "execution_count": 21,
   "id": "808f72f5",
   "metadata": {},
   "outputs": [
    {
     "data": {
      "application/vnd.jupyter.widget-view+json": {
       "model_id": "b8d264120d914b848540cb748b6ff5f0",
       "version_major": 2,
       "version_minor": 0
      },
      "text/plain": [
       "HBox(children=(VBox(children=(Text(value='', description='Temp Max'), Text(value='', description='Precipitção'…"
      ]
     },
     "metadata": {},
     "output_type": "display_data"
    },
    {
     "data": {
      "application/vnd.jupyter.widget-view+json": {
       "model_id": "300cdc7346924f749b97137213451dd4",
       "version_major": 2,
       "version_minor": 0
      },
      "text/plain": [
       "Button(description='Simular', style=ButtonStyle())"
      ]
     },
     "metadata": {},
     "output_type": "display_data"
    },
    {
     "name": "stdout",
     "output_type": "stream",
     "text": [
      "11977.01\n"
     ]
    }
   ],
   "source": [
    "display(inputs, botao)"
   ]
  },
  {
   "cell_type": "code",
   "execution_count": null,
   "id": "ec4c57c7",
   "metadata": {},
   "outputs": [],
   "source": []
  },
  {
   "cell_type": "code",
   "execution_count": null,
   "id": "ec00119f",
   "metadata": {},
   "outputs": [],
   "source": []
  }
 ],
 "metadata": {
  "kernelspec": {
   "display_name": "Python 3 (ipykernel)",
   "language": "python",
   "name": "python3"
  },
  "language_info": {
   "codemirror_mode": {
    "name": "ipython",
    "version": 3
   },
   "file_extension": ".py",
   "mimetype": "text/x-python",
   "name": "python",
   "nbconvert_exporter": "python",
   "pygments_lexer": "ipython3",
   "version": "3.9.7"
  }
 },
 "nbformat": 4,
 "nbformat_minor": 5
}
